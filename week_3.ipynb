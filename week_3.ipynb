{
 "cells": [
  {
   "cell_type": "markdown",
   "metadata": {
    "slideshow": {
     "slide_type": "slide"
    }
   },
   "source": [
    "$$\\text{Applied Machine Learning in Python}$$\n",
    "$$\\text{week 3}$$"
   ]
  },
  {
   "cell_type": "markdown",
   "metadata": {
    "slideshow": {
     "slide_type": "slide"
    }
   },
   "source": [
    "* Data manipulation:\n",
    "    * Dealing with missing data\n",
    "* Cross validation\n",
    "    * k-fold\n",
    "    * stratified k-fold\n",
    "    * shuffle split\n",
    "    * leave-one-out\n",
    "    * cross-validated estimations\n",
    "* Hyperparameter tuning\n",
    "* Clustering\n",
    "    * k-means"
   ]
  },
  {
   "cell_type": "markdown",
   "metadata": {
    "slideshow": {
     "slide_type": "slide"
    }
   },
   "source": [
    "$$\\text{Dealing with missing data}$$"
   ]
  },
  {
   "cell_type": "code",
   "execution_count": 2,
   "metadata": {
    "slideshow": {
     "slide_type": "subslide"
    }
   },
   "outputs": [],
   "source": [
    "# import standardt packages\n",
    "import numpy as np\n",
    "import pandas as pd\n",
    "import matplotlib.pyplot as plt"
   ]
  },
  {
   "cell_type": "code",
   "execution_count": 7,
   "metadata": {
    "scrolled": true,
    "slideshow": {
     "slide_type": "subslide"
    }
   },
   "outputs": [
    {
     "name": "stdout",
     "output_type": "stream",
     "text": [
      "          0         1         2         3         4\n",
      "0  0.660334  0.516289  0.087907  0.326503  0.991764\n",
      "1  0.486196  0.169704  0.448069  0.844951  0.870042\n",
      "2  0.422587  0.594036  0.491578  0.149315  0.926093\n",
      "3  0.292859  0.478560  0.254701  0.325765  0.251792\n",
      "4  0.074870  0.693420  0.273684  0.610520  0.029838\n",
      "5  0.254881  0.993242  0.023301  0.306728  0.360158\n",
      "6  0.869745  0.377323  0.091518  0.516760  0.800814\n",
      "7  0.809169  0.203642  0.368767  0.975266  0.009093\n",
      "8  0.657547  0.962439  0.853756  0.016892  0.224738\n",
      "9  0.741242  0.001510  0.941542  0.222778  0.438463\n"
     ]
    }
   ],
   "source": [
    "# a toy example: a matrix with random numbers [0,1]\n",
    "df = pd.DataFrame(data=np.random.random(size=(10,5)))\n",
    "print df"
   ]
  },
  {
   "cell_type": "code",
   "execution_count": 8,
   "metadata": {},
   "outputs": [
    {
     "name": "stdout",
     "output_type": "stream",
     "text": [
      "          0         1         2         3         4\n",
      "0  0.660334  0.516289       NaN  0.326503  0.991764\n",
      "1  0.486196  0.169704  0.448069  0.844951  0.870042\n",
      "2  0.422587  0.594036  0.491578       NaN  0.926093\n",
      "3  0.292859  0.478560  0.254701  0.325765  0.251792\n",
      "4       NaN  0.693420  0.273684  0.610520       NaN\n",
      "5  0.254881  0.993242       NaN  0.306728  0.360158\n",
      "6  0.869745  0.377323       NaN  0.516760  0.800814\n",
      "7  0.809169  0.203642  0.368767  0.975266       NaN\n",
      "8  0.657547  0.962439  0.853756       NaN  0.224738\n",
      "9  0.741242       NaN  0.941542  0.222778  0.438463\n"
     ]
    }
   ],
   "source": [
    "# insert at random NaN values\n",
    "df = df.where(df > 0.15, np.nan)\n",
    "print df"
   ]
  },
  {
   "cell_type": "markdown",
   "metadata": {
    "slideshow": {
     "slide_type": "subslide"
    }
   },
   "source": [
    "**Dropping missing values**"
   ]
  },
  {
   "cell_type": "code",
   "execution_count": 9,
   "metadata": {
    "slideshow": {
     "slide_type": "-"
    }
   },
   "outputs": [
    {
     "name": "stdout",
     "output_type": "stream",
     "text": [
      "          0         1         2         3         4\n",
      "0  0.660334  0.516289       NaN  0.326503  0.991764\n",
      "1  0.486196  0.169704  0.448069  0.844951  0.870042\n",
      "2  0.422587  0.594036  0.491578       NaN  0.926093\n",
      "3  0.292859  0.478560  0.254701  0.325765  0.251792\n",
      "4       NaN  0.693420  0.273684  0.610520       NaN\n",
      "5  0.254881  0.993242       NaN  0.306728  0.360158\n",
      "6  0.869745  0.377323       NaN  0.516760  0.800814\n",
      "7  0.809169  0.203642  0.368767  0.975266       NaN\n",
      "8  0.657547  0.962439  0.853756       NaN  0.224738\n",
      "9  0.741242       NaN  0.941542  0.222778  0.438463\n"
     ]
    }
   ],
   "source": [
    "print df"
   ]
  },
  {
   "cell_type": "code",
   "execution_count": 10,
   "metadata": {},
   "outputs": [
    {
     "name": "stdout",
     "output_type": "stream",
     "text": [
      "          0         1         2         3         4\n",
      "1  0.486196  0.169704  0.448069  0.844951  0.870042\n",
      "3  0.292859  0.478560  0.254701  0.325765  0.251792\n"
     ]
    }
   ],
   "source": [
    "# drop all rows with missing numbers:\n",
    "print df.dropna(axis=0)"
   ]
  },
  {
   "cell_type": "code",
   "execution_count": 11,
   "metadata": {
    "slideshow": {
     "slide_type": "subslide"
    }
   },
   "outputs": [
    {
     "name": "stdout",
     "output_type": "stream",
     "text": [
      "          0         1         2         3         4\n",
      "0  0.660334  0.516289       NaN  0.326503  0.991764\n",
      "1  0.486196  0.169704  0.448069  0.844951  0.870042\n",
      "2  0.422587  0.594036  0.491578       NaN  0.926093\n",
      "3  0.292859  0.478560  0.254701  0.325765  0.251792\n",
      "4       NaN  0.693420  0.273684  0.610520       NaN\n",
      "5  0.254881  0.993242       NaN  0.306728  0.360158\n",
      "6  0.869745  0.377323       NaN  0.516760  0.800814\n",
      "7  0.809169  0.203642  0.368767  0.975266       NaN\n",
      "8  0.657547  0.962439  0.853756       NaN  0.224738\n",
      "9  0.741242       NaN  0.941542  0.222778  0.438463\n"
     ]
    }
   ],
   "source": [
    "print df"
   ]
  },
  {
   "cell_type": "code",
   "execution_count": 12,
   "metadata": {},
   "outputs": [
    {
     "name": "stdout",
     "output_type": "stream",
     "text": [
      "Empty DataFrame\n",
      "Columns: []\n",
      "Index: [0, 1, 2, 3, 4, 5, 6, 7, 8, 9]\n"
     ]
    }
   ],
   "source": [
    "# drop all columns with missing numbers:\n",
    "print df.dropna(axis=1)"
   ]
  },
  {
   "cell_type": "code",
   "execution_count": 14,
   "metadata": {
    "slideshow": {
     "slide_type": "subslide"
    }
   },
   "outputs": [
    {
     "name": "stdout",
     "output_type": "stream",
     "text": [
      "          0         1         2         3         4\n",
      "0  0.660334  0.516289       NaN  0.326503  0.991764\n",
      "1  0.486196  0.169704  0.448069  0.844951  0.870042\n",
      "2  0.422587  0.594036  0.491578       NaN  0.926093\n",
      "3  0.292859  0.478560  0.254701  0.325765  0.251792\n",
      "4       NaN  0.693420  0.273684  0.610520       NaN\n",
      "5  0.254881  0.993242       NaN  0.306728  0.360158\n",
      "6  0.869745  0.377323       NaN  0.516760  0.800814\n",
      "7  0.809169  0.203642  0.368767  0.975266       NaN\n",
      "8  0.657547  0.962439  0.853756       NaN  0.224738\n",
      "9       NaN       NaN       NaN       NaN       NaN\n"
     ]
    }
   ],
   "source": [
    "# only drop rows where all values are missing\n",
    "# new dataframe\n",
    "df_all_miss = df.copy()\n",
    "df_all_miss.iloc[-1,:] = np.nan\n",
    "print df_all_miss"
   ]
  },
  {
   "cell_type": "code",
   "execution_count": 15,
   "metadata": {},
   "outputs": [
    {
     "name": "stdout",
     "output_type": "stream",
     "text": [
      "          0         1         2         3         4\n",
      "0  0.660334  0.516289       NaN  0.326503  0.991764\n",
      "1  0.486196  0.169704  0.448069  0.844951  0.870042\n",
      "2  0.422587  0.594036  0.491578       NaN  0.926093\n",
      "3  0.292859  0.478560  0.254701  0.325765  0.251792\n",
      "4       NaN  0.693420  0.273684  0.610520       NaN\n",
      "5  0.254881  0.993242       NaN  0.306728  0.360158\n",
      "6  0.869745  0.377323       NaN  0.516760  0.800814\n",
      "7  0.809169  0.203642  0.368767  0.975266       NaN\n",
      "8  0.657547  0.962439  0.853756       NaN  0.224738\n"
     ]
    }
   ],
   "source": [
    "print df_all_miss.dropna(how='all')"
   ]
  },
  {
   "cell_type": "code",
   "execution_count": 16,
   "metadata": {
    "slideshow": {
     "slide_type": "subslide"
    }
   },
   "outputs": [
    {
     "name": "stdout",
     "output_type": "stream",
     "text": [
      "          0         1         2         3         4\n",
      "0  0.660334  0.516289       NaN       NaN  0.991764\n",
      "1  0.486196       NaN  0.448069  0.844951  0.870042\n",
      "2  0.422587  0.594036  0.491578       NaN  0.926093\n",
      "3       NaN  0.478560       NaN       NaN       NaN\n",
      "4       NaN  0.693420       NaN  0.610520       NaN\n",
      "5       NaN  0.993242       NaN       NaN       NaN\n",
      "6  0.869745       NaN       NaN  0.516760  0.800814\n",
      "7  0.809169       NaN       NaN  0.975266       NaN\n",
      "8  0.657547  0.962439  0.853756       NaN       NaN\n",
      "9  0.741242       NaN  0.941542       NaN  0.438463\n"
     ]
    }
   ],
   "source": [
    "df_thresh = df.where(df > 0.4, np.nan)\n",
    "print df_thresh"
   ]
  },
  {
   "cell_type": "code",
   "execution_count": 17,
   "metadata": {},
   "outputs": [
    {
     "name": "stdout",
     "output_type": "stream",
     "text": [
      "          0         1         2         3         4\n",
      "0  0.660334  0.516289       NaN       NaN  0.991764\n",
      "1  0.486196       NaN  0.448069  0.844951  0.870042\n",
      "2  0.422587  0.594036  0.491578       NaN  0.926093\n",
      "6  0.869745       NaN       NaN  0.516760  0.800814\n",
      "8  0.657547  0.962439  0.853756       NaN       NaN\n",
      "9  0.741242       NaN  0.941542       NaN  0.438463\n"
     ]
    }
   ],
   "source": [
    "# keep only the rows with at least 3 non-NaN values\n",
    "print df_thresh.dropna(thresh=3)"
   ]
  },
  {
   "cell_type": "code",
   "execution_count": 18,
   "metadata": {
    "slideshow": {
     "slide_type": "subslide"
    }
   },
   "outputs": [
    {
     "name": "stdout",
     "output_type": "stream",
     "text": [
      "          0         1         2         3         4\n",
      "0  0.660334  0.516289       NaN  0.326503  0.991764\n",
      "1  0.486196  0.169704  0.448069  0.844951  0.870042\n",
      "2  0.422587  0.594036  0.491578       NaN  0.926093\n",
      "3  0.292859  0.478560  0.254701  0.325765  0.251792\n",
      "4       NaN  0.693420  0.273684  0.610520       NaN\n",
      "5  0.254881  0.993242       NaN  0.306728  0.360158\n",
      "6  0.869745  0.377323       NaN  0.516760  0.800814\n",
      "7  0.809169  0.203642  0.368767  0.975266       NaN\n",
      "8  0.657547  0.962439  0.853756       NaN  0.224738\n",
      "9  0.741242       NaN  0.941542  0.222778  0.438463\n"
     ]
    }
   ],
   "source": [
    "# only drop if a specific column contains NaN\n",
    "print df"
   ]
  },
  {
   "cell_type": "code",
   "execution_count": 19,
   "metadata": {},
   "outputs": [
    {
     "name": "stdout",
     "output_type": "stream",
     "text": [
      "          0         1         2         3         4\n",
      "0  0.660334  0.516289       NaN  0.326503  0.991764\n",
      "1  0.486196  0.169704  0.448069  0.844951  0.870042\n",
      "2  0.422587  0.594036  0.491578       NaN  0.926093\n",
      "3  0.292859  0.478560  0.254701  0.325765  0.251792\n",
      "4       NaN  0.693420  0.273684  0.610520       NaN\n",
      "5  0.254881  0.993242       NaN  0.306728  0.360158\n",
      "6  0.869745  0.377323       NaN  0.516760  0.800814\n",
      "7  0.809169  0.203642  0.368767  0.975266       NaN\n",
      "8  0.657547  0.962439  0.853756       NaN  0.224738\n"
     ]
    }
   ],
   "source": [
    "print df.dropna(subset=[1])"
   ]
  },
  {
   "cell_type": "markdown",
   "metadata": {
    "slideshow": {
     "slide_type": "subslide"
    }
   },
   "source": [
    "**Imputing missing values**"
   ]
  },
  {
   "cell_type": "code",
   "execution_count": 20,
   "metadata": {},
   "outputs": [
    {
     "name": "stdout",
     "output_type": "stream",
     "text": [
      "          0         1         2         3         4\n",
      "0  0.660334  0.516289       NaN  0.326503  0.991764\n",
      "1  0.486196  0.169704  0.448069  0.844951  0.870042\n",
      "2  0.422587  0.594036  0.491578       NaN  0.926093\n",
      "3  0.292859  0.478560  0.254701  0.325765  0.251792\n",
      "4       NaN  0.693420  0.273684  0.610520       NaN\n",
      "5  0.254881  0.993242       NaN  0.306728  0.360158\n",
      "6  0.869745  0.377323       NaN  0.516760  0.800814\n",
      "7  0.809169  0.203642  0.368767  0.975266       NaN\n",
      "8  0.657547  0.962439  0.853756       NaN  0.224738\n",
      "9  0.741242       NaN  0.941542  0.222778  0.438463\n"
     ]
    }
   ],
   "source": [
    "# imputing with scalar values\n",
    "print df"
   ]
  },
  {
   "cell_type": "code",
   "execution_count": 21,
   "metadata": {},
   "outputs": [
    {
     "name": "stdout",
     "output_type": "stream",
     "text": [
      "          0         1         2         3         4\n",
      "0  0.660334  0.516289  0.000000  0.326503  0.991764\n",
      "1  0.486196  0.169704  0.448069  0.844951  0.870042\n",
      "2  0.422587  0.594036  0.491578  0.000000  0.926093\n",
      "3  0.292859  0.478560  0.254701  0.325765  0.251792\n",
      "4  0.000000  0.693420  0.273684  0.610520  0.000000\n",
      "5  0.254881  0.993242  0.000000  0.306728  0.360158\n",
      "6  0.869745  0.377323  0.000000  0.516760  0.800814\n",
      "7  0.809169  0.203642  0.368767  0.975266  0.000000\n",
      "8  0.657547  0.962439  0.853756  0.000000  0.224738\n",
      "9  0.741242  0.000000  0.941542  0.222778  0.438463\n"
     ]
    }
   ],
   "source": [
    "print df.fillna(0)"
   ]
  },
  {
   "cell_type": "code",
   "execution_count": 22,
   "metadata": {
    "slideshow": {
     "slide_type": "subslide"
    }
   },
   "outputs": [
    {
     "name": "stdout",
     "output_type": "stream",
     "text": [
      "          0         1         2         3         4\n",
      "0  0.660334  0.516289       NaN  0.326503  0.991764\n",
      "1  0.486196  0.169704  0.448069  0.844951  0.870042\n",
      "2  0.422587  0.594036  0.491578       NaN  0.926093\n",
      "3  0.292859  0.478560  0.254701  0.325765  0.251792\n",
      "4       NaN  0.693420  0.273684  0.610520       NaN\n",
      "5  0.254881  0.993242       NaN  0.306728  0.360158\n",
      "6  0.869745  0.377323       NaN  0.516760  0.800814\n",
      "7  0.809169  0.203642  0.368767  0.975266       NaN\n",
      "8  0.657547  0.962439  0.853756       NaN  0.224738\n",
      "9  0.741242       NaN  0.941542  0.222778  0.438463\n"
     ]
    }
   ],
   "source": [
    "# fill gaps forward or backward (propagate values)\n",
    "print df"
   ]
  },
  {
   "cell_type": "code",
   "execution_count": 23,
   "metadata": {},
   "outputs": [
    {
     "name": "stdout",
     "output_type": "stream",
     "text": [
      "          0         1         2         3         4\n",
      "0  0.660334  0.516289       NaN  0.326503  0.991764\n",
      "1  0.486196  0.169704  0.448069  0.844951  0.870042\n",
      "2  0.422587  0.594036  0.491578  0.844951  0.926093\n",
      "3  0.292859  0.478560  0.254701  0.325765  0.251792\n",
      "4  0.292859  0.693420  0.273684  0.610520  0.251792\n",
      "5  0.254881  0.993242  0.273684  0.306728  0.360158\n",
      "6  0.869745  0.377323  0.273684  0.516760  0.800814\n",
      "7  0.809169  0.203642  0.368767  0.975266  0.800814\n",
      "8  0.657547  0.962439  0.853756  0.975266  0.224738\n",
      "9  0.741242  0.962439  0.941542  0.222778  0.438463\n"
     ]
    }
   ],
   "source": [
    "# fill forward\n",
    "print df.fillna(method='ffill')"
   ]
  },
  {
   "cell_type": "code",
   "execution_count": 24,
   "metadata": {
    "slideshow": {
     "slide_type": "subslide"
    }
   },
   "outputs": [
    {
     "name": "stdout",
     "output_type": "stream",
     "text": [
      "          0         1         2         3         4\n",
      "0  0.660334  0.516289       NaN  0.326503  0.991764\n",
      "1  0.486196  0.169704  0.448069  0.844951  0.870042\n",
      "2  0.422587  0.594036  0.491578       NaN  0.926093\n",
      "3  0.292859  0.478560  0.254701  0.325765  0.251792\n",
      "4       NaN  0.693420  0.273684  0.610520       NaN\n",
      "5  0.254881  0.993242       NaN  0.306728  0.360158\n",
      "6  0.869745  0.377323       NaN  0.516760  0.800814\n",
      "7  0.809169  0.203642  0.368767  0.975266       NaN\n",
      "8  0.657547  0.962439  0.853756       NaN  0.224738\n",
      "9  0.741242       NaN  0.941542  0.222778  0.438463\n"
     ]
    }
   ],
   "source": [
    "print df"
   ]
  },
  {
   "cell_type": "code",
   "execution_count": 25,
   "metadata": {},
   "outputs": [
    {
     "name": "stdout",
     "output_type": "stream",
     "text": [
      "          0         1         2         3         4\n",
      "0  0.660334  0.516289  0.448069  0.326503  0.991764\n",
      "1  0.486196  0.169704  0.448069  0.844951  0.870042\n",
      "2  0.422587  0.594036  0.491578  0.325765  0.926093\n",
      "3  0.292859  0.478560  0.254701  0.325765  0.251792\n",
      "4  0.254881  0.693420  0.273684  0.610520  0.360158\n",
      "5  0.254881  0.993242  0.368767  0.306728  0.360158\n",
      "6  0.869745  0.377323  0.368767  0.516760  0.800814\n",
      "7  0.809169  0.203642  0.368767  0.975266  0.224738\n",
      "8  0.657547  0.962439  0.853756  0.222778  0.224738\n",
      "9  0.741242       NaN  0.941542  0.222778  0.438463\n"
     ]
    }
   ],
   "source": [
    "print df.fillna(method='bfill')"
   ]
  },
  {
   "cell_type": "markdown",
   "metadata": {
    "slideshow": {
     "slide_type": "slide"
    }
   },
   "source": [
    "$$\\textbf{Cross validation}$$"
   ]
  },
  {
   "cell_type": "markdown",
   "metadata": {
    "slideshow": {
     "slide_type": "subslide"
    }
   },
   "source": [
    "**Cross-validation** is a model validation technique for assessing how the results of a statistical analysis will generalise to an independent data set."
   ]
  },
  {
   "cell_type": "markdown",
   "metadata": {},
   "source": [
    "One round of cross-validation involves partitioning a sample of data into complementary subsets, performing the analysis on one subset (called the _training_ set), and validating the analysis on the other subset (called the _testing_ set). To reduce variability, in most methods multiple rounds of cross-validation are performed using different partitions, and the validation results are combined (e.g. averaged) over the rounds to estimate a final predictive model."
   ]
  },
  {
   "cell_type": "markdown",
   "metadata": {},
   "source": [
    "Cross-validation combines (averages) measures of fit (prediction error) to derive a more accurate estimate of model prediction performance."
   ]
  },
  {
   "cell_type": "markdown",
   "metadata": {
    "slideshow": {
     "slide_type": "subslide"
    }
   },
   "source": [
    "$$\\textbf{Cross validation iterators}$$"
   ]
  },
  {
   "cell_type": "markdown",
   "metadata": {},
   "source": [
    "Assuming that some data is **Independent** and **Identically Distributed** (i.i.d.) is making the assumption that all samples stem from the same generative process and that the generative process is assumed to have no memory of past generated samples."
   ]
  },
  {
   "cell_type": "markdown",
   "metadata": {
    "slideshow": {
     "slide_type": "subslide"
    }
   },
   "source": [
    "**k-fold** cross validation (k=5)"
   ]
  },
  {
   "cell_type": "markdown",
   "metadata": {},
   "source": [
    "<img src=\"plots/k_fold.png\"  align=\"center\" style=\"width: 1600px;\"/>"
   ]
  },
  {
   "cell_type": "code",
   "execution_count": 108,
   "metadata": {
    "collapsed": true
   },
   "outputs": [],
   "source": [
    "# import k-fold CV algorithm\n",
    "from sklearn.model_selection import KFold"
   ]
  },
  {
   "cell_type": "code",
   "execution_count": 123,
   "metadata": {
    "slideshow": {
     "slide_type": "subslide"
    }
   },
   "outputs": [],
   "source": [
    "# create a dummy list of indices\n",
    "x = np.arange(1,16)"
   ]
  },
  {
   "cell_type": "code",
   "execution_count": 378,
   "metadata": {
    "collapsed": true
   },
   "outputs": [],
   "source": [
    "# initialise the iterator with 5 splits \n",
    "kf = KFold(n_splits=5)"
   ]
  },
  {
   "cell_type": "code",
   "execution_count": 379,
   "metadata": {},
   "outputs": [
    {
     "name": "stdout",
     "output_type": "stream",
     "text": [
      "[ 4  5  6  7  8  9 10 11 12 13 14 15] [1 2 3]\n",
      "[ 1  2  3  7  8  9 10 11 12 13 14 15] [4 5 6]\n",
      "[ 1  2  3  4  5  6 10 11 12 13 14 15] [7 8 9]\n",
      "[ 1  2  3  4  5  6  7  8  9 13 14 15] [10 11 12]\n",
      "[ 1  2  3  4  5  6  7  8  9 10 11 12] [13 14 15]\n"
     ]
    }
   ],
   "source": [
    "# print CV partitionigs\n",
    "for train_indx, test_indx in kf.split(x):\n",
    "    print x[train_indx], x[test_indx]"
   ]
  },
  {
   "cell_type": "code",
   "execution_count": 128,
   "metadata": {
    "collapsed": true,
    "slideshow": {
     "slide_type": "subslide"
    }
   },
   "outputs": [],
   "source": [
    "# introducing some randomness in splitting\n",
    "kf = KFold(n_splits=5,random_state=1, shuffle=True)"
   ]
  },
  {
   "cell_type": "markdown",
   "metadata": {},
   "source": [
    "<img src=\"plots/k_fold_rnd.png\"  align=\"center\" style=\"width: 1600px;\"/>"
   ]
  },
  {
   "cell_type": "code",
   "execution_count": 134,
   "metadata": {},
   "outputs": [
    {
     "name": "stdout",
     "output_type": "stream",
     "text": [
      "[ 1  2  3  5  6  9 10 11 12 13 14 15] [4 7 8]\n",
      "[ 1  2  4  6  7  8  9 10 12 13 14 15] [ 3  5 11]\n",
      "[ 3  4  5  6  7  8  9 10 11 12 13 15] [ 1  2 14]\n",
      "[ 1  2  3  4  5  6  7  8 11 12 13 14] [ 9 10 15]\n",
      "[ 1  2  3  4  5  7  8  9 10 11 14 15] [ 6 12 13]\n"
     ]
    }
   ],
   "source": [
    "for train_indx, test_indx in kf.split(x):\n",
    "    print x[train_indx], x[test_indx]"
   ]
  },
  {
   "cell_type": "markdown",
   "metadata": {
    "slideshow": {
     "slide_type": "subslide"
    }
   },
   "source": [
    "**Repeated** k-fold cross validation"
   ]
  },
  {
   "cell_type": "code",
   "execution_count": 131,
   "metadata": {
    "collapsed": true
   },
   "outputs": [],
   "source": [
    "# import repeated k-fold\n",
    "from sklearn.model_selection import RepeatedKFold"
   ]
  },
  {
   "cell_type": "code",
   "execution_count": 170,
   "metadata": {
    "collapsed": true
   },
   "outputs": [],
   "source": [
    "# initialise with 5 splits and repeat 3 times\n",
    "rkf = RepeatedKFold(n_splits=5, n_repeats=3)"
   ]
  },
  {
   "cell_type": "code",
   "execution_count": 159,
   "metadata": {},
   "outputs": [
    {
     "name": "stdout",
     "output_type": "stream",
     "text": [
      "[ 1  3  4  5  6  7  9 10 11 12 14 15] [ 2  8 13]\n",
      "[ 1  2  3  4  5  6  8 11 12 13 14 15] [ 7  9 10]\n",
      "[ 1  2  3  4  5  6  7  8  9 10 13 15] [11 12 14]\n",
      "[ 1  2  5  6  7  8  9 10 11 12 13 14] [ 3  4 15]\n",
      "[ 2  3  4  7  8  9 10 11 12 13 14 15] [1 5 6]\n",
      "[ 1  2  3  4  5  6  7 10 11 12 13 15] [ 8  9 14]\n",
      "[ 1  2  4  5  6  8  9 10 11 13 14 15] [ 3  7 12]\n",
      "[ 2  3  4  5  6  7  8  9 10 12 13 14] [ 1 11 15]\n",
      "[ 1  3  4  6  7  8  9 10 11 12 14 15] [ 2  5 13]\n",
      "[ 1  2  3  5  7  8  9 11 12 13 14 15] [ 4  6 10]\n",
      "[ 2  3  4  7  8  9 10 11 12 13 14 15] [1 5 6]\n",
      "[ 1  2  3  5  6  7  8  9 10 11 12 14] [ 4 13 15]\n",
      "[ 1  2  3  4  5  6  9 10 11 12 13 15] [ 7  8 14]\n",
      "[ 1  2  3  4  5  6  7  8  9 13 14 15] [10 11 12]\n",
      "[ 1  4  5  6  7  8 10 11 12 13 14 15] [2 3 9]\n"
     ]
    }
   ],
   "source": [
    "for train_indx, test_indx in rkf.split(x):\n",
    "    print x[train_indx], x[test_indx]"
   ]
  },
  {
   "cell_type": "markdown",
   "metadata": {
    "slideshow": {
     "slide_type": "subslide"
    }
   },
   "source": [
    "**Shuffle** cross validation"
   ]
  },
  {
   "cell_type": "code",
   "execution_count": 135,
   "metadata": {
    "collapsed": true
   },
   "outputs": [],
   "source": [
    "# import shuffle iterator\n",
    "from sklearn.model_selection import ShuffleSplit"
   ]
  },
  {
   "cell_type": "code",
   "execution_count": 142,
   "metadata": {
    "collapsed": true
   },
   "outputs": [],
   "source": [
    "# Random permutation of all data + split (1-X)% and X%, where X is in range [0.0, 1.0]\n",
    "shs = ShuffleSplit(n_splits=5, test_size=0.3)"
   ]
  },
  {
   "cell_type": "code",
   "execution_count": 380,
   "metadata": {},
   "outputs": [
    {
     "name": "stdout",
     "output_type": "stream",
     "text": [
      "[15  4 12 11  3  2  9 10  5  6] [ 8  7 14  1 13]\n",
      "[14  7  6  4 10  3  1  2 13 11] [15 12  9  8  5]\n",
      "[ 9  6 14  4  2  5 15  3  8 13] [10 11  7 12  1]\n",
      "[ 6  1  8  2  9 11  5 15  3 13] [14 10  7 12  4]\n",
      "[ 3 11 12 14 13 15  8 10  2  5] [7 6 9 4 1]\n"
     ]
    }
   ],
   "source": [
    "for train_indx, test_indx in shs.split(x):\n",
    "    print x[train_indx], x[test_indx]"
   ]
  },
  {
   "cell_type": "markdown",
   "metadata": {
    "slideshow": {
     "slide_type": "subslide"
    }
   },
   "source": [
    "**Stratified k-fold** cross validation"
   ]
  },
  {
   "cell_type": "markdown",
   "metadata": {},
   "source": [
    "This cross-validation object is a variation of KFold that returns **stratified** folds. The folds are made by **preserving the percentage of samples for each class**."
   ]
  },
  {
   "cell_type": "code",
   "execution_count": 145,
   "metadata": {
    "collapsed": true
   },
   "outputs": [],
   "source": [
    "# import stratified iterator\n",
    "from sklearn.model_selection import StratifiedKFold"
   ]
  },
  {
   "cell_type": "code",
   "execution_count": 381,
   "metadata": {
    "collapsed": true
   },
   "outputs": [],
   "source": [
    "# initialise with 5 splits\n",
    "skf = StratifiedKFold(n_splits=3)"
   ]
  },
  {
   "cell_type": "code",
   "execution_count": 382,
   "metadata": {},
   "outputs": [
    {
     "data": {
      "text/plain": [
       "array([0, 1, 1, 1, 1, 1, 1, 0, 1, 0, 1, 1, 1, 0, 1])"
      ]
     },
     "execution_count": 382,
     "metadata": {},
     "output_type": "execute_result"
    }
   ],
   "source": [
    "# create data with imbalanced class labels\n",
    "y = np.random.choice([0, 1], size=(15,), p=[1./3, 2./3])\n",
    "y"
   ]
  },
  {
   "cell_type": "code",
   "execution_count": 383,
   "metadata": {},
   "outputs": [
    {
     "name": "stdout",
     "output_type": "stream",
     "text": [
      "[ 6  7  9 10 11 12 13 14 15] [1 2 3 4 5 8] [1 1 1 0 1 1 1 0 1] [0 1 1 1 1 0]\n",
      "[ 1  2  3  4  5  8 12 13 14 15] [ 6  7  9 10 11] [0 1 1 1 1 0 1 1 0 1] [1 1 1 0 1]\n",
      "[ 1  2  3  4  5  6  7  8  9 10 11] [12 13 14 15] [0 1 1 1 1 1 1 0 1 0 1] [1 1 0 1]\n"
     ]
    }
   ],
   "source": [
    "for train_indx, test_indx in skf.split(x,y):\n",
    "    print x[train_indx], x[test_indx], y[train_indx], y[test_indx]"
   ]
  },
  {
   "cell_type": "markdown",
   "metadata": {
    "slideshow": {
     "slide_type": "subslide"
    }
   },
   "source": [
    "**Leave-One-Out** cross validation iterator"
   ]
  },
  {
   "cell_type": "code",
   "execution_count": 172,
   "metadata": {
    "collapsed": true
   },
   "outputs": [],
   "source": [
    "# import\n",
    "from sklearn.model_selection import LeaveOneOut"
   ]
  },
  {
   "cell_type": "code",
   "execution_count": 176,
   "metadata": {
    "collapsed": true
   },
   "outputs": [],
   "source": [
    "# initialise. Note, it does NOT have the argument 'n_split', as it uses ALL data\n",
    "loocv = LeaveOneOut()"
   ]
  },
  {
   "cell_type": "code",
   "execution_count": 177,
   "metadata": {},
   "outputs": [
    {
     "name": "stdout",
     "output_type": "stream",
     "text": [
      "[ 2  3  4  5  6  7  8  9 10 11 12 13 14 15] [1]\n",
      "[ 1  3  4  5  6  7  8  9 10 11 12 13 14 15] [2]\n",
      "[ 1  2  4  5  6  7  8  9 10 11 12 13 14 15] [3]\n",
      "[ 1  2  3  5  6  7  8  9 10 11 12 13 14 15] [4]\n",
      "[ 1  2  3  4  6  7  8  9 10 11 12 13 14 15] [5]\n",
      "[ 1  2  3  4  5  7  8  9 10 11 12 13 14 15] [6]\n",
      "[ 1  2  3  4  5  6  8  9 10 11 12 13 14 15] [7]\n",
      "[ 1  2  3  4  5  6  7  9 10 11 12 13 14 15] [8]\n",
      "[ 1  2  3  4  5  6  7  8 10 11 12 13 14 15] [9]\n",
      "[ 1  2  3  4  5  6  7  8  9 11 12 13 14 15] [10]\n",
      "[ 1  2  3  4  5  6  7  8  9 10 12 13 14 15] [11]\n",
      "[ 1  2  3  4  5  6  7  8  9 10 11 13 14 15] [12]\n",
      "[ 1  2  3  4  5  6  7  8  9 10 11 12 14 15] [13]\n",
      "[ 1  2  3  4  5  6  7  8  9 10 11 12 13 15] [14]\n",
      "[ 1  2  3  4  5  6  7  8  9 10 11 12 13 14] [15]\n"
     ]
    }
   ],
   "source": [
    "for train_indx, test_indx in loocv.split(x):\n",
    "    print x[train_indx], x[test_indx]"
   ]
  },
  {
   "cell_type": "markdown",
   "metadata": {
    "slideshow": {
     "slide_type": "slide"
    }
   },
   "source": [
    "$$\\textbf{Cross-validated model evalution}$$"
   ]
  },
  {
   "cell_type": "markdown",
   "metadata": {
    "slideshow": {
     "slide_type": "subslide"
    }
   },
   "source": [
    "To get **a better measure** of prediction accuracy (which we can use as a proxy for goodness of fit of the model), we can successively split the data **in folds** "
   ]
  },
  {
   "cell_type": "markdown",
   "metadata": {
    "slideshow": {
     "slide_type": "subslide"
    }
   },
   "source": [
    "**Cross validated estimation**"
   ]
  },
  {
   "cell_type": "code",
   "execution_count": 387,
   "metadata": {
    "collapsed": true
   },
   "outputs": [],
   "source": [
    "# iris data set\n",
    "from sklearn import datasets\n",
    "iris_data = datasets.load_iris()\n",
    "X, y = iris_data.data, iris_data.target"
   ]
  },
  {
   "cell_type": "code",
   "execution_count": 388,
   "metadata": {
    "collapsed": true,
    "slideshow": {
     "slide_type": "-"
    }
   },
   "outputs": [],
   "source": [
    "# importing cross validation estimators\n",
    "from sklearn.model_selection import cross_val_score, cross_val_predict"
   ]
  },
  {
   "cell_type": "code",
   "execution_count": 389,
   "metadata": {
    "collapsed": true
   },
   "outputs": [],
   "source": [
    "# import classifiers\n",
    "from sklearn import linear_model\n",
    "from sklearn import neighbors\n",
    "# define classifiers\n",
    "clf_logit = linear_model.LogisticRegression()\n",
    "clf_knghb = neighbors.KNeighborsClassifier(n_neighbors=10)"
   ]
  },
  {
   "cell_type": "code",
   "execution_count": 459,
   "metadata": {
    "slideshow": {
     "slide_type": "subslide"
    }
   },
   "outputs": [
    {
     "name": "stdout",
     "output_type": "stream",
     "text": [
      "[ 1.   1.   1.   1.   1.   1.   1.   1.   1.   1.   1.   1.   1.   1.   1.\n",
      "  1.   1.   1.   1.   1.   1.   1.   1.   1.   1.   1.   1.   1.   1.   1.\n",
      "  1.   1.   1.   0.5  1.   0.5  1.   1.   1.   1.   1.   0.5  0.   1.   1.\n",
      "  1.   1.   1.   1.   1.   1.   1.   1.   1.   1.   1.   1.   1.   1.   1.\n",
      "  1.   1.   1.   1.   1.   1.   1.   1.   1.   1.   1.   1.   1.   1.   1.\n",
      "  1.   1.   1.   1.   0.   1.   1.   1.   0.   1.   1.   1.   1.   1.   1.\n",
      "  1.   1.   1.   1.   1.   1.   1.   1.   1.   1. ]\n",
      "0.955\n"
     ]
    }
   ],
   "source": [
    "# use k-fold cv iterator and 'accuracy' score to get 'k' evaluations \n",
    "# check cases: k-folds = [2, 3, 4, 5, 6, 10, 15]\n",
    "cv_metrics_k = cross_val_score(estimator=clf_logit, \n",
    "                               X=X, y=y, \n",
    "                               cv=KFold(n_splits=100), \n",
    "                               scoring='accuracy')\n",
    "print cv_metrics_k\n",
    "print cv_metrics_k.mean()"
   ]
  },
  {
   "cell_type": "code",
   "execution_count": 460,
   "metadata": {
    "slideshow": {
     "slide_type": "-"
    }
   },
   "outputs": [
    {
     "name": "stdout",
     "output_type": "stream",
     "text": [
      "[ 1.          0.96666667  0.93333333  0.9         1.        ]\n",
      "0.96\n"
     ]
    }
   ],
   "source": [
    "# use Stratified k-fold cv iterator and 'accuracy' score to get 'k' evaluations \n",
    "cv_metrics_stratif = cross_val_score(estimator=clf_logit, \n",
    "                                     X=X, y=y, \n",
    "                                     cv=StratifiedKFold(n_splits=5), \n",
    "                                     scoring='accuracy')\n",
    "print cv_metrics_stratif\n",
    "print cv_metrics_stratif.mean()"
   ]
  },
  {
   "cell_type": "code",
   "execution_count": 412,
   "metadata": {
    "slideshow": {
     "slide_type": "subslide"
    }
   },
   "outputs": [
    {
     "name": "stdout",
     "output_type": "stream",
     "text": [
      "[ 1.  1.  1.  1.  1.  1.  1.  1.  1.  1.  1.  1.  1.  1.  1.  1.  1.  1.\n",
      "  1.  1.  1.  1.  1.  1.  1.  1.  1.  1.  1.  1.  1.  1.  1.  1.  1.  1.\n",
      "  1.  1.  1.  1.  1.  1.  1.  1.  1.  1.  1.  1.  1.  1.  1.  1.  1.  1.\n",
      "  1.  1.  1.  1.  1.  1.  1.  1.  1.  1.  1.  1.  0.  1.  1.  1.  0.  1.\n",
      "  1.  1.  1.  1.  1.  1.  1.  1.  1.  1.  1.  0.  0.  0.  1.  1.  1.  1.\n",
      "  1.  1.  1.  1.  1.  1.  1.  1.  1.  1.  1.  1.  1.  1.  1.  1.  1.  1.\n",
      "  1.  1.  1.  1.  1.  1.  1.  1.  1.  1.  1.  1.  1.  1.  1.  1.  1.  1.\n",
      "  1.  1.  1.  0.  1.  1.  1.  0.  1.  1.  1.  1.  1.  1.  1.  1.  1.  1.\n",
      "  1.  1.  1.  1.  1.  1.]\n",
      "0.953333333333\n"
     ]
    }
   ],
   "source": [
    "# use leave-one-ou iterator and 'accuracy' score \n",
    "cv_metrics_loocv = cross_val_score(estimator=clf_logit, \n",
    "                                   X=X, y=y, \n",
    "                                   cv=LeaveOneOut(), \n",
    "                                   scoring='accuracy')\n",
    "print cv_metrics_loocv\n",
    "print cv_metrics_loocv.mean()"
   ]
  },
  {
   "cell_type": "markdown",
   "metadata": {
    "slideshow": {
     "slide_type": "subslide"
    }
   },
   "source": [
    "$$\\textbf{Model comparison}$$"
   ]
  },
  {
   "cell_type": "markdown",
   "metadata": {
    "slideshow": {
     "slide_type": "subslide"
    }
   },
   "source": [
    "How to compare different models/algorithms?"
   ]
  },
  {
   "cell_type": "markdown",
   "metadata": {},
   "source": [
    "Fix randomness and evaluate performance (compute metric) on the same fold:"
   ]
  },
  {
   "cell_type": "code",
   "execution_count": 440,
   "metadata": {
    "slideshow": {
     "slide_type": "subslide"
    }
   },
   "outputs": [
    {
     "name": "stdout",
     "output_type": "stream",
     "text": [
      "cv results:  [ 1.          1.          1.          0.93333333  0.93333333  0.93333333\n",
      "  0.8         0.93333333  1.          1.        ]\n",
      " \n",
      "mean (+/-std) 0.95 (+/- 0.06 )\n"
     ]
    }
   ],
   "source": [
    "# get cv evaluation with logistic regression:\n",
    "cv_logit_acc = cross_val_score(estimator=linear_model.LogisticRegression(), \n",
    "                               X=X, y=y, \n",
    "                               cv=StratifiedKFold(n_splits=10, random_state=0))\n",
    "# print cv_results\n",
    "print 'cv results:  ' + str(cv_logit_acc)\n",
    "print ' '\n",
    "print 'mean (+/-std) %.2f'% cv_logit_acc.mean() + ' (+/- %.2f '% cv_logit_acc.std() + ')'"
   ]
  },
  {
   "cell_type": "code",
   "execution_count": 441,
   "metadata": {},
   "outputs": [
    {
     "name": "stdout",
     "output_type": "stream",
     "text": [
      "cv results:  [ 1.          0.93333333  1.          1.          1.          0.93333333\n",
      "  0.93333333  1.          1.          1.        ]\n",
      " \n",
      "mean (+/-std) 0.98 (+/- 0.03 )\n"
     ]
    }
   ],
   "source": [
    "# get cv evaluation with k-neighbours:\n",
    "cv_kneigh_acc = cross_val_score(estimator=neighbors.KNeighborsClassifier(n_neighbors=20), \n",
    "                                X=X, y=y, \n",
    "                                cv=StratifiedKFold(n_splits=10, random_state=0))\n",
    "# print cv_results\n",
    "print 'cv results:  ' + str(cv_kneigh_acc)\n",
    "print ' '\n",
    "print 'mean (+/-std) %.2f'% cv_kneigh_acc.mean() + ' (+/- %.2f '% cv_kneigh_acc.std() + ')'"
   ]
  },
  {
   "cell_type": "markdown",
   "metadata": {
    "slideshow": {
     "slide_type": "slide"
    }
   },
   "source": [
    "$$\\textbf{Hyperparameter Tuning}$$"
   ]
  },
  {
   "cell_type": "markdown",
   "metadata": {
    "slideshow": {
     "slide_type": "subslide"
    }
   },
   "source": [
    "In machine learning, **a hyperparameter** is a parameter whose value is set before the learning process begins. By contrast, the values of other **parameters** are derived via training."
   ]
  },
  {
   "cell_type": "markdown",
   "metadata": {
    "slideshow": {
     "slide_type": "subslide"
    }
   },
   "source": [
    "For example, k-neighbours classification algorithm"
   ]
  },
  {
   "cell_type": "code",
   "execution_count": 339,
   "metadata": {
    "collapsed": true
   },
   "outputs": [],
   "source": [
    "# import k-neightbours\n",
    "from sklearn import neighbors\n",
    "# initialise the classifier\n",
    "k_nghb = neighbors.KNeighborsClassifier(n_neighbors=2)\n",
    "# get data\n",
    "X, y = iris_data.data, iris_data.target"
   ]
  },
  {
   "cell_type": "code",
   "execution_count": 463,
   "metadata": {
    "collapsed": true
   },
   "outputs": [],
   "source": [
    "# run the classifier with n = 2\n",
    "acc_2 = cross_val_score(estimator=neighbors.KNeighborsClassifier(n_neighbors=23), \n",
    "                        X=X, y=y, \n",
    "                        cv=StratifiedKFold(n_splits=10))"
   ]
  },
  {
   "cell_type": "code",
   "execution_count": 464,
   "metadata": {},
   "outputs": [
    {
     "data": {
      "text/plain": [
       "array([ 0.93333333,  0.93333333,  1.        ,  1.        ,  1.        ,\n",
       "        0.93333333,  0.93333333,  1.        ,  1.        ,  1.        ])"
      ]
     },
     "execution_count": 464,
     "metadata": {},
     "output_type": "execute_result"
    }
   ],
   "source": [
    "# print results\n",
    "acc_2"
   ]
  },
  {
   "cell_type": "code",
   "execution_count": 340,
   "metadata": {},
   "outputs": [
    {
     "data": {
      "text/plain": [
       "0.95333333333333337"
      ]
     },
     "execution_count": 340,
     "metadata": {},
     "output_type": "execute_result"
    }
   ],
   "source": [
    "acc_2.mean()"
   ]
  },
  {
   "cell_type": "markdown",
   "metadata": {
    "slideshow": {
     "slide_type": "subslide"
    }
   },
   "source": [
    "Let's check the performance for different numbers of 'n_neighbors'"
   ]
  },
  {
   "cell_type": "code",
   "execution_count": 354,
   "metadata": {
    "collapsed": true
   },
   "outputs": [],
   "source": [
    "# specify a list of k-neighbours (hyperparameter)\n",
    "k_grid = [1,2,3,5,10,15,20,25,30,50]"
   ]
  },
  {
   "cell_type": "code",
   "execution_count": 366,
   "metadata": {},
   "outputs": [
    {
     "name": "stdout",
     "output_type": "stream",
     "text": [
      "accuracy with : 1 neighbours: 0.96\n",
      "accuracy with : 2 neighbours: 0.953333333333\n",
      "accuracy with : 3 neighbours: 0.966666666667\n",
      "accuracy with : 5 neighbours: 0.966666666667\n",
      "accuracy with : 10 neighbours: 0.966666666667\n",
      "accuracy with : 15 neighbours: 0.973333333333\n",
      "accuracy with : 20 neighbours: 0.98\n",
      "accuracy with : 25 neighbours: 0.966666666667\n",
      "accuracy with : 30 neighbours: 0.953333333333\n",
      "accuracy with : 50 neighbours: 0.926666666667\n"
     ]
    }
   ],
   "source": [
    "results = []\n",
    "for k_i in k_grid:\n",
    "    tmp_acc = cross_val_score(estimator=neighbors.KNeighborsClassifier(n_neighbors=k_i), \n",
    "                        X=X, y=y, \n",
    "                        cv=StratifiedKFold(n_splits=10))\n",
    "    mean_accuracy_i = tmp_acc.mean()\n",
    "    print 'accuracy with : ' + str(k_i) + ' neighbours: ' + str(mean_accuracy_i)\n",
    "    results.append(mean_accuracy_i)"
   ]
  },
  {
   "cell_type": "code",
   "execution_count": 442,
   "metadata": {
    "slideshow": {
     "slide_type": "subslide"
    }
   },
   "outputs": [
    {
     "name": "stdout",
     "output_type": "stream",
     "text": [
      "[0.95999999999999996, 0.95333333333333337, 0.96666666666666656, 0.96666666666666679, 0.96666666666666679, 0.97333333333333338, 0.98000000000000009, 0.96666666666666656, 0.95333333333333337, 0.92666666666666675]\n"
     ]
    }
   ],
   "source": [
    "# print results\n",
    "print results"
   ]
  },
  {
   "cell_type": "code",
   "execution_count": 367,
   "metadata": {},
   "outputs": [
    {
     "data": {
      "image/png": "[encoded data removed]",
      "text/plain": [
       "<matplotlib.figure.Figure at 0x7f45df18f2d0>"
      ]
     },
     "metadata": {},
     "output_type": "display_data"
    }
   ],
   "source": [
    "# plot nice graph\n",
    "plt.plot(k_grid, results, 'ro')\n",
    "plt.xlabel('k - number of neighbours')\n",
    "plt.ylabel('mean accuracy')\n",
    "plt.show()"
   ]
  },
  {
   "cell_type": "code",
   "execution_count": 365,
   "metadata": {},
   "outputs": [
    {
     "data": {
      "text/plain": [
       "0.98000000000000009"
      ]
     },
     "execution_count": 365,
     "metadata": {},
     "output_type": "execute_result"
    }
   ],
   "source": [
    "np.max(results)"
   ]
  },
  {
   "cell_type": "markdown",
   "metadata": {
    "slideshow": {
     "slide_type": "subslide"
    }
   },
   "source": [
    "$$\\textbf{GridSearchCV estimator}$$"
   ]
  },
  {
   "cell_type": "markdown",
   "metadata": {},
   "source": [
    "Exhaustive search over specified parameter values for an estimator."
   ]
  },
  {
   "cell_type": "code",
   "execution_count": 358,
   "metadata": {
    "collapsed": true,
    "slideshow": {
     "slide_type": "subslide"
    }
   },
   "outputs": [],
   "source": [
    "# import gridsearchcv\n",
    "from sklearn.model_selection import GridSearchCV"
   ]
  },
  {
   "cell_type": "code",
   "execution_count": 368,
   "metadata": {
    "collapsed": true
   },
   "outputs": [],
   "source": [
    "# implementation of searching for best k with k-neighbours\n",
    "k_ngh = neighbors.KNeighborsClassifier()\n",
    "parameters = {'n_neighbors':[1,2,3,5,10,15,20,25,30,50]}\n",
    "grid_search_kngh = GridSearchCV(estimator=k_ngh, param_grid=parameters, cv=StratifiedKFold(10))"
   ]
  },
  {
   "cell_type": "code",
   "execution_count": 369,
   "metadata": {},
   "outputs": [
    {
     "data": {
      "text/plain": [
       "GridSearchCV(cv=StratifiedKFold(n_splits=10, random_state=None, shuffle=False),\n",
       "       error_score='raise',\n",
       "       estimator=KNeighborsClassifier(algorithm='auto', leaf_size=30, metric='minkowski',\n",
       "           metric_params=None, n_jobs=1, n_neighbors=5, p=2,\n",
       "           weights='uniform'),\n",
       "       fit_params=None, iid=True, n_jobs=1,\n",
       "       param_grid={'n_neighbors': [1, 2, 3, 5, 10, 15, 20, 25, 30, 50]},\n",
       "       pre_dispatch='2*n_jobs', refit=True, return_train_score='warn',\n",
       "       scoring=None, verbose=0)"
      ]
     },
     "execution_count": 369,
     "metadata": {},
     "output_type": "execute_result"
    }
   ],
   "source": [
    "# evaluation with GridSearchCV\n",
    "grid_search_kngh.fit(X, y)"
   ]
  },
  {
   "cell_type": "markdown",
   "metadata": {
    "slideshow": {
     "slide_type": "subslide"
    }
   },
   "source": [
    "Find the best parameter k:"
   ]
  },
  {
   "cell_type": "code",
   "execution_count": 362,
   "metadata": {},
   "outputs": [
    {
     "data": {
      "text/plain": [
       "{'n_neighbors': 20}"
      ]
     },
     "execution_count": 362,
     "metadata": {},
     "output_type": "execute_result"
    }
   ],
   "source": [
    "grid_search_kngh.best_params_"
   ]
  },
  {
   "cell_type": "code",
   "execution_count": 363,
   "metadata": {},
   "outputs": [
    {
     "data": {
      "text/plain": [
       "0.97999999999999998"
      ]
     },
     "execution_count": 363,
     "metadata": {},
     "output_type": "execute_result"
    }
   ],
   "source": [
    "grid_search_kngh.best_score_"
   ]
  },
  {
   "cell_type": "markdown",
   "metadata": {
    "slideshow": {
     "slide_type": "slide"
    }
   },
   "source": [
    "$$\\textbf{Clustering (unsupervised learning)}$$"
   ]
  },
  {
   "cell_type": "markdown",
   "metadata": {
    "slideshow": {
     "slide_type": "subslide"
    }
   },
   "source": [
    "Cluster analysis or clustering is the task of grouping a set of objects in such a way that objects in the same group (called a cluster) are more similar (in some sense) to each other than to those in other groups (clusters)."
   ]
  },
  {
   "cell_type": "markdown",
   "metadata": {},
   "source": [
    "Cluster analysis itself is not one specific algorithm, but the general task to be solved. It can be achieved by various algorithms that differ significantly in their notion of what constitutes a cluster and how to efficiently find them. "
   ]
  },
  {
   "cell_type": "code",
   "execution_count": 250,
   "metadata": {
    "collapsed": true,
    "slideshow": {
     "slide_type": "subslide"
    }
   },
   "outputs": [],
   "source": [
    "# make some synthetic data and plots\n",
    "from sklearn import datasets\n",
    "import matplotlib.pyplot as plt"
   ]
  },
  {
   "cell_type": "code",
   "execution_count": 444,
   "metadata": {},
   "outputs": [],
   "source": [
    "# create two blobs in 2Dim\n",
    "X_0, y_0 = datasets.make_blobs(n_features=2, n_samples=100, centers=2, random_state=0)\n",
    "X_1, y_1 = datasets.make_blobs(n_features=2, n_samples=100, centers=2, random_state=1)"
   ]
  },
  {
   "cell_type": "code",
   "execution_count": 331,
   "metadata": {},
   "outputs": [
    {
     "data": {
      "image/png": "[encoded data removed]",
      "text/plain": [
       "<matplotlib.figure.Figure at 0x7f45dbea0c50>"
      ]
     },
     "metadata": {},
     "output_type": "display_data"
    }
   ],
   "source": [
    "plt.figure(figsize=(12,4))\n",
    "plt.subplot(121)\n",
    "plt.scatter(X_0[:,0], X_0[:,1])\n",
    "plt.subplot(122)\n",
    "plt.scatter(X_1[:,0], X_1[:,1])\n",
    "plt.show()"
   ]
  },
  {
   "cell_type": "markdown",
   "metadata": {
    "slideshow": {
     "slide_type": "subslide"
    }
   },
   "source": [
    "$$\\textbf{k-means}$$"
   ]
  },
  {
   "cell_type": "markdown",
   "metadata": {
    "slideshow": {
     "slide_type": "subslide"
    }
   },
   "source": [
    "The k-mean algorithm clusters data by trying to separate samples in _n_ groups of equal variance, minimizing a criterion known as the inertia or within-cluster sum-of-squares. This algorithm requires the number of clusters **to be specified**. "
   ]
  },
  {
   "cell_type": "code",
   "execution_count": 332,
   "metadata": {
    "collapsed": true,
    "slideshow": {
     "slide_type": "subslide"
    }
   },
   "outputs": [],
   "source": [
    "# k-means algorithm \n",
    "from sklearn import cluster"
   ]
  },
  {
   "cell_type": "code",
   "execution_count": 333,
   "metadata": {
    "collapsed": true
   },
   "outputs": [],
   "source": [
    "# initialise k-means algorithm, the number of clusters MUST be prespecified\n",
    "kmeans = cluster.KMeans(n_clusters=2)"
   ]
  },
  {
   "cell_type": "code",
   "execution_count": 469,
   "metadata": {},
   "outputs": [],
   "source": [
    "# fit (import) the data\n",
    "n_clusters = 2\n",
    "km_0 = cluster.KMeans(n_clusters=n_clusters).fit(X_0)\n",
    "km_1 = cluster.KMeans(n_clusters=n_clusters).fit(X_1)"
   ]
  },
  {
   "cell_type": "code",
   "execution_count": 470,
   "metadata": {},
   "outputs": [
    {
     "data": {
      "image/png": "[encoded data removed]",
      "text/plain": [
       "<matplotlib.figure.Figure at 0x7f45dbfe9f90>"
      ]
     },
     "metadata": {},
     "output_type": "display_data"
    }
   ],
   "source": [
    "plt.figure(figsize=(12,4))\n",
    "plt.subplot(121)\n",
    "plt.scatter(X_0[:,0], X_0[:,1], c=km_0.labels_)\n",
    "plt.scatter(km_0.cluster_centers_[:,0], km_0.cluster_centers_[:,1], marker='X', c='r')\n",
    "plt.subplot(122)\n",
    "plt.scatter(X_1[:,0], X_1[:,1], c=km_1.labels_)\n",
    "plt.scatter(km_1.cluster_centers_[:,0], km_1.cluster_centers_[:,1], marker='X', c='r')\n",
    "plt.show()"
   ]
  }
 ],
 "metadata": {
  "celltoolbar": "Slideshow",
  "kernelspec": {
   "display_name": "Python 2",
   "language": "python",
   "name": "python2"
  },
  "language_info": {
   "codemirror_mode": {
    "name": "ipython",
    "version": 2
   },
   "file_extension": ".py",
   "mimetype": "text/x-python",
   "name": "python",
   "nbconvert_exporter": "python",
   "pygments_lexer": "ipython2",
   "version": "2.7.12"
  }
 },
 "nbformat": 4,
 "nbformat_minor": 2
}
