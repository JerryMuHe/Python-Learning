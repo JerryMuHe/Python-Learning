{
 "cells": [
  {
   "cell_type": "markdown",
   "metadata": {
    "slideshow": {
     "slide_type": "slide"
    }
   },
   "source": [
    "$$\\text{Applied Machine Learning in Python}$$\n",
    "$$\\text{Week 2}$$"
   ]
  },
  {
   "cell_type": "markdown",
   "metadata": {
    "slideshow": {
     "slide_type": "slide"
    }
   },
   "source": [
    "* Classification models:\n",
    "    * Logistic regression\n",
    "    * Instance-based (non-parametric) learning: K-nearest neighbours\n",
    "* Model evaluation\n",
    "    * Confusion matrix\n",
    "    * Accuracy\n",
    "    * Precision / Recall\n",
    "    * F1 score"
   ]
  },
  {
   "cell_type": "markdown",
   "metadata": {
    "slideshow": {
     "slide_type": "slide"
    }
   },
   "source": [
    "$$\\textbf{Classification models}$$"
   ]
  },
  {
   "cell_type": "markdown",
   "metadata": {
    "slideshow": {
     "slide_type": "subslide"
    }
   },
   "source": [
    "** Logistic regression ** is a classification model which assigns probability [0,1] of being in a 'positive' class (+1) to each instance in the data set. \n",
    "'Positive' class belongs to an event we would like to predict (class labels +1/-1 are arbitrary chosen). For example, given a data set of dogs and cats, we want to estimate the probability of a new instance to be a dog. Here, 'dog' represents the 'positive' class."
   ]
  },
  {
   "cell_type": "markdown",
   "metadata": {
    "slideshow": {
     "slide_type": "subslide"
    }
   },
   "source": [
    "$$ logit( p(y=Y_1|x=\\vec{X_i}) ) = w_0*X_{i0} + w_1*X_{i1} + w_2*X_{i2} + ...$$"
   ]
  },
  {
   "cell_type": "markdown",
   "metadata": {},
   "source": [
    "where "
   ]
  },
  {
   "cell_type": "markdown",
   "metadata": {},
   "source": [
    "$$logit(p) = \\log \\frac{p}{1-p}$$"
   ]
  },
  {
   "cell_type": "markdown",
   "metadata": {},
   "source": [
    "with $$ \\vec{w} = [w_0, w_1, w_2, ....]\\;\\;\\;\\text{and}\\;\\;\\;\\vec{X_i} = [x_0, x_1, x_2, ...]$$ "
   ]
  },
  {
   "cell_type": "markdown",
   "metadata": {},
   "source": [
    "weights (parameters) of the logistic function   and values of the data (instance) points"
   ]
  },
  {
   "cell_type": "markdown",
   "metadata": {
    "slideshow": {
     "slide_type": "subslide"
    }
   },
   "source": [
    "Thus: $$ p(y=Y_1|x=\\vec{X_i}) = \\frac{1}{1 + e^{-(w_0*X_{i0} + w_1*X_{i1} + w_2*X_{i2} + ...)}}$$"
   ]
  },
  {
   "cell_type": "markdown",
   "metadata": {},
   "source": [
    "Logistic regression is used when the outcomes (labels) are binary (only two classes). In the case of more than two outcomes, the **softmax function** is used."
   ]
  },
  {
   "cell_type": "markdown",
   "metadata": {
    "slideshow": {
     "slide_type": "subslide"
    }
   },
   "source": [
    "Plotting logistic regression:"
   ]
  },
  {
   "cell_type": "code",
   "execution_count": 6,
   "metadata": {},
   "outputs": [],
   "source": [
    "import numpy as np\n",
    "import matplotlib.pyplot as plt"
   ]
  },
  {
   "cell_type": "code",
   "execution_count": 424,
   "metadata": {},
   "outputs": [
    {
     "data": {
      "image/png": "[encoded data removed]",
      "text/plain": [
       "<matplotlib.figure.Figure at 0x7f7799d48790>"
      ]
     },
     "metadata": {},
     "output_type": "display_data"
    }
   ],
   "source": [
    "x = np.linspace(-5, 5, 20)\n",
    "y = 1.0 / (1.0 + np.exp(-x))\n",
    "plt.plot(x, y)\n",
    "plt.show()"
   ]
  },
  {
   "cell_type": "markdown",
   "metadata": {
    "slideshow": {
     "slide_type": "subslide"
    }
   },
   "source": [
    "Toy-example:"
   ]
  },
  {
   "cell_type": "code",
   "execution_count": 1,
   "metadata": {},
   "outputs": [
    {
     "name": "stdout",
     "output_type": "stream",
     "text": [
      "[[ 2.84382807e+00]\n",
      " [-1.00780133e-03]\n",
      " [ 1.92635850e+00]\n",
      " [ 4.20056848e+00]\n",
      " [ 1.95500806e+00]\n",
      " [ 4.71438583e+00]\n",
      " [ 5.75806083e+00]\n",
      " [ 4.15243012e+00]\n",
      " [ 3.21716328e+00]\n",
      " [ 4.44783090e+00]]\n",
      "[0 0 0 1 0 1 1 1 0 1]\n"
     ]
    }
   ],
   "source": [
    "# create 10 instances of 1Dim data with two (0/1) labels\n",
    "from sklearn import datasets\n",
    "X, y = datasets.make_blobs(n_samples=10, n_features=1, centers=2,random_state=0)\n",
    "print X\n",
    "print y"
   ]
  },
  {
   "cell_type": "code",
   "execution_count": 3,
   "metadata": {
    "slideshow": {
     "slide_type": "subslide"
    }
   },
   "outputs": [
    {
     "name": "stdout",
     "output_type": "stream",
     "text": [
      "     feat_1\n",
      "0  2.843828\n",
      "1 -0.001008\n",
      "2  1.926358\n",
      "3  4.200568\n",
      "4  1.955008\n",
      "5  4.714386\n",
      "6  5.758061\n",
      "7  4.152430\n",
      "8  3.217163\n",
      "9  4.447831\n"
     ]
    }
   ],
   "source": [
    "# convert data to pandas dataframe\n",
    "import pandas as pd\n",
    "df_data = pd.DataFrame(data=X, columns={'feat_1'})\n",
    "print df_data"
   ]
  },
  {
   "cell_type": "code",
   "execution_count": 4,
   "metadata": {},
   "outputs": [
    {
     "name": "stdout",
     "output_type": "stream",
     "text": [
      "     feat_1  lab\n",
      "0  2.843828    0\n",
      "1 -0.001008    0\n",
      "2  1.926358    0\n",
      "3  4.200568    1\n",
      "4  1.955008    0\n",
      "5  4.714386    1\n",
      "6  5.758061    1\n",
      "7  4.152430    1\n",
      "8  3.217163    0\n",
      "9  4.447831    1\n"
     ]
    }
   ],
   "source": [
    "# adding the labels\n",
    "df_data['lab'] = y\n",
    "print df_data"
   ]
  },
  {
   "cell_type": "code",
   "execution_count": 7,
   "metadata": {
    "slideshow": {
     "slide_type": "subslide"
    }
   },
   "outputs": [
    {
     "data": {
      "image/png": "[encoded data removed]",
      "text/plain": [
       "<matplotlib.figure.Figure at 0x11fea4a8>"
      ]
     },
     "metadata": {},
     "output_type": "display_data"
    }
   ],
   "source": [
    "plt.scatter(df_data.feat_1, df_data.lab)\n",
    "plt.show()"
   ]
  },
  {
   "cell_type": "code",
   "execution_count": 8,
   "metadata": {},
   "outputs": [
    {
     "data": {
      "text/plain": [
       "LogisticRegression(C=1.0, class_weight=None, dual=False, fit_intercept=True,\n",
       "          intercept_scaling=1, max_iter=100, multi_class='ovr', n_jobs=1,\n",
       "          penalty='l2', random_state=None, solver='liblinear', tol=0.0001,\n",
       "          verbose=0, warm_start=False)"
      ]
     },
     "execution_count": 8,
     "metadata": {},
     "output_type": "execute_result"
    }
   ],
   "source": [
    "# fit logistic regression\n",
    "from sklearn import linear_model\n",
    "lr = linear_model.LogisticRegression()\n",
    "lr.fit(df_data.feat_1.values.reshape((-1,1)), df_data.lab)"
   ]
  },
  {
   "cell_type": "code",
   "execution_count": 9,
   "metadata": {
    "slideshow": {
     "slide_type": "subslide"
    }
   },
   "outputs": [],
   "source": [
    "# create new instances\n",
    "feat_new = np.linspace(min(df_data.feat_1), max(df_data.feat_1), 10).reshape((-1,1))\n",
    "# predict the outcome value for each new instance based on the trained model\n",
    "y_pred = lr.predict(feat_new)"
   ]
  },
  {
   "cell_type": "code",
   "execution_count": 10,
   "metadata": {},
   "outputs": [
    {
     "data": {
      "image/png": "[encoded data removed]",
      "text/plain": [
       "<matplotlib.figure.Figure at 0x14a11668>"
      ]
     },
     "metadata": {},
     "output_type": "display_data"
    }
   ],
   "source": [
    "plt.scatter(df_data.feat_1, df_data.lab,c='b', s=100)\n",
    "plt.plot(feat_new, y_pred,'ro')\n",
    "plt.show()"
   ]
  },
  {
   "cell_type": "markdown",
   "metadata": {
    "slideshow": {
     "slide_type": "subslide"
    }
   },
   "source": [
    "**weights** of the fitted logistic function"
   ]
  },
  {
   "cell_type": "code",
   "execution_count": 432,
   "metadata": {},
   "outputs": [
    {
     "data": {
      "text/plain": [
       "array([-1.06675397])"
      ]
     },
     "execution_count": 432,
     "metadata": {},
     "output_type": "execute_result"
    }
   ],
   "source": [
    "# w_0\n",
    "lr.intercept_"
   ]
  },
  {
   "cell_type": "code",
   "execution_count": 433,
   "metadata": {},
   "outputs": [
    {
     "data": {
      "text/plain": [
       "array([[ 0.46381559]])"
      ]
     },
     "execution_count": 433,
     "metadata": {},
     "output_type": "execute_result"
    }
   ],
   "source": [
    "# w_1\n",
    "lr.coef_"
   ]
  },
  {
   "cell_type": "markdown",
   "metadata": {},
   "source": [
    "$$ p(y=1|x=x_i) = \\frac{1}{1 + e^{-(-1.067 + 0.464*x_i)}}$$"
   ]
  },
  {
   "cell_type": "markdown",
   "metadata": {},
   "source": [
    "$$ p(y=0|x=x_i) = 1 - p(y=1|x=x_i) = \\frac{e^{-(-1.067 + 0.464*x_i)}}{1 + e^{-(-1.067 + 0.464*x_i)}}  $$"
   ]
  },
  {
   "cell_type": "markdown",
   "metadata": {
    "slideshow": {
     "slide_type": "subslide"
    }
   },
   "source": [
    "**Logistic output** (probabilities)"
   ]
  },
  {
   "cell_type": "code",
   "execution_count": 12,
   "metadata": {},
   "outputs": [
    {
     "name": "stdout",
     "output_type": "stream",
     "text": [
      "   feat_new  pr_class_0  pr_class_1  threshold  predicted_class\n",
      "0 -0.001008    0.744068    0.255932        0.6                0\n",
      "1  0.638889    0.683613    0.316387        0.6                0\n",
      "2  1.278785    0.616243    0.383757        0.6                0\n",
      "3  1.918682    0.544095    0.455905        0.6                0\n",
      "4  2.558578    0.470047    0.529953        0.6                0\n",
      "5  3.198475    0.397295    0.602705        0.6                1\n",
      "6  3.838371    0.328817    0.671183        0.6                1\n",
      "7  4.478268    0.266914    0.733086        0.6                1\n",
      "8  5.118164    0.212967    0.787033        0.6                1\n",
      "9  5.758061    0.167434    0.832566        0.6                1\n"
     ]
    }
   ],
   "source": [
    "# create a dataframe with instances and corresponding probabilites\n",
    "df_new_data = pd.DataFrame(data=feat_new, columns={'feat_new'})\n",
    "df_new_data = pd.concat((df_new_data,  pd.DataFrame(data=lr.predict_proba(feat_new), columns={'pr_class_0', 'pr_class_1'})),axis=1)\n",
    "df_new_data['threshold'] = 0.6\n",
    "df_new_data['predicted_class'] = (df_new_data.pr_class_1 > df_new_data.threshold).astype(int)\n",
    "print df_new_data"
   ]
  },
  {
   "cell_type": "markdown",
   "metadata": {},
   "source": [
    "** Default Threshold = 0.5 **"
   ]
  },
  {
   "cell_type": "markdown",
   "metadata": {
    "slideshow": {
     "slide_type": "subslide"
    }
   },
   "source": [
    "$$\\textbf{Non-parametric classification model: k-nearest neighbours (kNN)}\\;\\;\\;\\; \\text{(lazzy learning)}$$"
   ]
  },
  {
   "cell_type": "markdown",
   "metadata": {},
   "source": [
    "In **kNN** classification, the output is a class membership. An object is classified by a **majority vote of its neighbours**, with the object being assigned to the class most common among its **k nearest neighbours** (k is a positive integer, typically small). If k = 1, then the object is simply assigned to the class of that single nearest neighbours."
   ]
  },
  {
   "cell_type": "markdown",
   "metadata": {
    "slideshow": {
     "slide_type": "subslide"
    }
   },
   "source": [
    "<img src=\"plots/kNN_plot_1.png\"  align=\"center\" style=\"width: 1200px;\"/>"
   ]
  },
  {
   "cell_type": "markdown",
   "metadata": {
    "slideshow": {
     "slide_type": "subslide"
    }
   },
   "source": [
    "<img src=\"plots/kNN_plot_6.png\"  align=\"center\" style=\"width: 1200px;\"/>"
   ]
  },
  {
   "cell_type": "code",
   "execution_count": 435,
   "metadata": {
    "collapsed": true,
    "slideshow": {
     "slide_type": "subslide"
    }
   },
   "outputs": [],
   "source": [
    "# importing neighbour algorithm\n",
    "from sklearn import neighbors\n",
    "# defining the model with only 1 neighbour\n",
    "knn_1_clf = neighbors.KNeighborsClassifier(n_neighbors=1)\n",
    "# defining the model with 6 neighbour\n",
    "knn_6_clf = neighbors.KNeighborsClassifier(n_neighbors=6)\n",
    "# defining the model with 20 neighbour\n",
    "knn_20_clf = neighbors.KNeighborsClassifier(n_neighbors=20)\n",
    "# defining the model with 40 neighbour\n",
    "knn_40_clf = neighbors.KNeighborsClassifier(n_neighbors=40)\n",
    "# defining logistic regression for comparison\n",
    "lr_clf = linear_model.LogisticRegression()"
   ]
  },
  {
   "cell_type": "code",
   "execution_count": 436,
   "metadata": {},
   "outputs": [],
   "source": [
    "# loading iris data set\n",
    "iris_data = datasets.load_iris()\n",
    "X, y = iris_data.data, iris_data.target"
   ]
  },
  {
   "cell_type": "code",
   "execution_count": 437,
   "metadata": {
    "collapsed": true
   },
   "outputs": [],
   "source": [
    "# loading train_test splitter\n",
    "from sklearn import model_selection\n",
    "X_train, X_test, y_train, y_test = model_selection.train_test_split(X[:,:2],y)"
   ]
  },
  {
   "cell_type": "code",
   "execution_count": 438,
   "metadata": {},
   "outputs": [],
   "source": [
    "# train three classification models\n",
    "knn_1_clf.fit(X_train, y_train)\n",
    "knn_6_clf.fit(X_train, y_train)\n",
    "knn_20_clf.fit(X_train, y_train)\n",
    "knn_40_clf.fit(X_train, y_train)\n",
    "# use ';' to suppres output\n",
    "lr_clf.fit(X_train, y_train);"
   ]
  },
  {
   "cell_type": "code",
   "execution_count": 439,
   "metadata": {
    "collapsed": true,
    "slideshow": {
     "slide_type": "subslide"
    }
   },
   "outputs": [],
   "source": [
    "# use plotting function fom week_1\n",
    "def plot_decision_regions_new(X, y, classifier, resolution=0.05, test_flag=False, indx=None):\n",
    "    from matplotlib.colors import ListedColormap\n",
    "    # setup marker generator and color map\n",
    "    markers = ('s', '^', 'o', '+', 'v')\n",
    "    colors = ('red', 'blue', 'lightgreen', 'gray', 'cyan')\n",
    "    cmap = ListedColormap(colors[:len(np.unique(y))])\n",
    "    if test_flag:\n",
    "        face_colors = ('none','none','none','none','none')\n",
    "        marker_size = 100\n",
    "        markers = ('o', 'o', 'o', 'o', 'o')\n",
    "        line_with = 2.0\n",
    "    else:\n",
    "        face_colors = colors\n",
    "        marker_size = 50\n",
    "        line_with = 0.5\n",
    "\n",
    "    # plot the decision surface\n",
    "    x1_min, x1_max = X[:, 0].min() - 1, X[:, 0].max() + 1\n",
    "    x2_min, x2_max = X[:, 1].min() - 1, X[:, 1].max() + 1\n",
    "    xx1, xx2 = np.meshgrid(np.arange(x1_min, x1_max, resolution),\n",
    "                           np.arange(x2_min, x2_max, resolution))\n",
    "    Z = classifier.predict(np.array([xx1.ravel(), xx2.ravel()]).T)\n",
    "    Z = Z.reshape(xx1.shape)\n",
    "    plt.contourf(xx1, xx2, Z, alpha=0.4, cmap=cmap)\n",
    "    plt.xlim(xx1.min(), xx1.max())\n",
    "    plt.ylim(xx2.min(), xx2.max())\n",
    "\n",
    "    # plot class samples\n",
    "    for idx, cl in enumerate(np.unique(y)):\n",
    "        plt.scatter(x=X[y == cl, 0], y=X[y == cl, 1],\n",
    "                    alpha=0.8, edgecolors=cmap(idx),\n",
    "                    marker=markers[idx], facecolors=face_colors[idx], label=cl, s=marker_size, linewidth=line_with)\n",
    "    plt.show()"
   ]
  },
  {
   "cell_type": "code",
   "execution_count": 440,
   "metadata": {
    "slideshow": {
     "slide_type": "subslide"
    }
   },
   "outputs": [
    {
     "data": {
      "image/png": "[encoded data removed]",
      "text/plain": [
       "<matplotlib.figure.Figure at 0x7f77be4f4c10>"
      ]
     },
     "metadata": {},
     "output_type": "display_data"
    }
   ],
   "source": [
    "plot_decision_regions_new(X_test, y_test, knn_1_clf)"
   ]
  },
  {
   "cell_type": "code",
   "execution_count": 441,
   "metadata": {},
   "outputs": [
    {
     "data": {
      "image/png": "[encoded data removed]",
      "text/plain": [
       "<matplotlib.figure.Figure at 0x7f7799dfc8d0>"
      ]
     },
     "metadata": {},
     "output_type": "display_data"
    }
   ],
   "source": [
    "plot_decision_regions_new(X_test, y_test, knn_6_clf)"
   ]
  },
  {
   "cell_type": "code",
   "execution_count": 442,
   "metadata": {
    "slideshow": {
     "slide_type": "subslide"
    }
   },
   "outputs": [
    {
     "data": {
      "image/png": "[encoded data removed]",
      "text/plain": [
       "<matplotlib.figure.Figure at 0x7f77bc163b90>"
      ]
     },
     "metadata": {},
     "output_type": "display_data"
    }
   ],
   "source": [
    "plot_decision_regions_new(X_test, y_test, knn_20_clf)"
   ]
  },
  {
   "cell_type": "code",
   "execution_count": 443,
   "metadata": {},
   "outputs": [
    {
     "data": {
      "image/png": "[encoded data removed]",
      "text/plain": [
       "<matplotlib.figure.Figure at 0x7f77990dee10>"
      ]
     },
     "metadata": {},
     "output_type": "display_data"
    }
   ],
   "source": [
    "plot_decision_regions_new(X_test, y_test, knn_40_clf)"
   ]
  },
  {
   "cell_type": "code",
   "execution_count": 444,
   "metadata": {
    "slideshow": {
     "slide_type": "subslide"
    }
   },
   "outputs": [
    {
     "data": {
      "image/png": "[encoded data removed]",
      "text/plain": [
       "<matplotlib.figure.Figure at 0x7f7799ea8a50>"
      ]
     },
     "metadata": {},
     "output_type": "display_data"
    }
   ],
   "source": [
    "plot_decision_regions_new(X_test, y_test, lr_clf)"
   ]
  },
  {
   "cell_type": "markdown",
   "metadata": {
    "slideshow": {
     "slide_type": "slide"
    }
   },
   "source": [
    "$$\\textbf{Model evaluation}$$\n",
    "\n",
    "$$\\text{quantifying the quality of predictions} $$"
   ]
  },
  {
   "cell_type": "markdown",
   "metadata": {
    "slideshow": {
     "slide_type": "subslide"
    }
   },
   "source": [
    "Learning the parameters of a prediction function and testing it on the same data is **a methodological mistake**: a model that would just repeat the labels of the samples that it has just seen would have a perfect score but would fail to predict anything useful on yet-unseen data. This situation is called **overfitting**. To avoid it, it is common practice when performing a (supervised) machine learning experiment to hold out part of the available data as a test set **X_test, y_test**."
   ]
  },
  {
   "cell_type": "markdown",
   "metadata": {
    "slideshow": {
     "slide_type": "subslide"
    }
   },
   "source": [
    "We can control the fraction of splitting (**test_size** parameter)\n"
   ]
  },
  {
   "cell_type": "code",
   "execution_count": 445,
   "metadata": {},
   "outputs": [],
   "source": [
    "# split 60% for training and 40% to test\n",
    "X_train, X_test, y_train, y_test = model_selection.train_test_split(X, y, test_size=0.5, random_state=0)"
   ]
  },
  {
   "cell_type": "code",
   "execution_count": 446,
   "metadata": {},
   "outputs": [
    {
     "data": {
      "text/plain": [
       "(150, 4)"
      ]
     },
     "execution_count": 446,
     "metadata": {},
     "output_type": "execute_result"
    }
   ],
   "source": [
    "# Full data set\n",
    "X.shape"
   ]
  },
  {
   "cell_type": "code",
   "execution_count": 447,
   "metadata": {},
   "outputs": [
    {
     "data": {
      "text/plain": [
       "(75, 4)"
      ]
     },
     "execution_count": 447,
     "metadata": {},
     "output_type": "execute_result"
    }
   ],
   "source": [
    "# Training set\n",
    "X_train.shape"
   ]
  },
  {
   "cell_type": "code",
   "execution_count": 448,
   "metadata": {},
   "outputs": [
    {
     "data": {
      "text/plain": [
       "(75, 4)"
      ]
     },
     "execution_count": 448,
     "metadata": {},
     "output_type": "execute_result"
    }
   ],
   "source": [
    "# Test set\n",
    "X_test.shape"
   ]
  },
  {
   "cell_type": "markdown",
   "metadata": {
    "slideshow": {
     "slide_type": "subslide"
    }
   },
   "source": [
    "**Classification scoring metrics**\n",
    "* Confusion matrix\n",
    "* Accuracy\n",
    "* Precision / Recall\n",
    "* F1 score "
   ]
  },
  {
   "cell_type": "markdown",
   "metadata": {
    "slideshow": {
     "slide_type": "subslide"
    }
   },
   "source": [
    "The diagonal elements of a **confusion matrix** represent the number of points for which the predicted label is equal to the true label, while off-diagonal elements are those that are mislabeled by the classifier. The higher the diagonal values of the confusion matrix the better, indicating many correct predictions."
   ]
  },
  {
   "cell_type": "code",
   "execution_count": 449,
   "metadata": {},
   "outputs": [
    {
     "data": {
      "text/plain": [
       "array([[19,  0,  0],\n",
       "       [ 0, 18,  4],\n",
       "       [ 0,  0, 19]])"
      ]
     },
     "execution_count": 449,
     "metadata": {},
     "output_type": "execute_result"
    }
   ],
   "source": [
    "# performance of the logistic classifier on iris data set\n",
    "# import metrics module\n",
    "from sklearn import metrics\n",
    "X_train, X_test, y_train, y_test = model_selection.train_test_split(X, y, test_size=0.4)\n",
    "lr_clf = linear_model.LogisticRegression()\n",
    "lr_clf.fit(X_train, y_train)\n",
    "y_pred_iris = lr_clf.predict(X_test)\n",
    "conf_matrx = metrics.confusion_matrix(y_true=y_test, y_pred=y_pred_iris)\n",
    "conf_matrx"
   ]
  },
  {
   "cell_type": "code",
   "execution_count": 450,
   "metadata": {
    "slideshow": {
     "slide_type": "subslide"
    }
   },
   "outputs": [
    {
     "data": {
      "image/png": "[encoded data removed]",
      "text/plain": [
       "<matplotlib.figure.Figure at 0x7f7799ea8bd0>"
      ]
     },
     "metadata": {},
     "output_type": "display_data"
    }
   ],
   "source": [
    "# plotting beautiful graphics with seaborn\n",
    "import seaborn as sns\n",
    "plt.figure(figsize=(7,7))\n",
    "sns.heatmap(conf_matrx, cmap='Blues', annot=True, cbar=False)\n",
    "plt.xticks([0.5,1.5,2.5], iris_data.target_names, fontsize=16)\n",
    "plt.yticks([0.5,1.5,2.5], iris_data.target_names, fontsize=16)\n",
    "plt.ylabel('True label', fontsize=20)\n",
    "plt.xlabel('Predicted label', fontsize=20)\n",
    "plt.show()"
   ]
  },
  {
   "cell_type": "markdown",
   "metadata": {
    "slideshow": {
     "slide_type": "subslide"
    }
   },
   "source": [
    "<img src=\"plots/conf_matrix_with_eq.png\"  align=\"center\" style=\"width: 1300px;\"/>"
   ]
  },
  {
   "cell_type": "markdown",
   "metadata": {
    "slideshow": {
     "slide_type": "subslide"
    }
   },
   "source": [
    "<img src=\"plots/conf_matrix_examp.png\"  align=\"center\" style=\"width: 900px;\"/>"
   ]
  },
  {
   "cell_type": "code",
   "execution_count": 451,
   "metadata": {
    "slideshow": {
     "slide_type": "subslide"
    }
   },
   "outputs": [],
   "source": [
    "# toy example as in above\n",
    "y_true_results = np.array([0.,0.,0.,0.,0.,0.,0.,0.,0.,0.,0.,0.,1.,1.,1.,1.,1.,1.,1.,1.])\n",
    "# prediction of some fictitious classifier\n",
    "y_pred_results = np.array([0.,0.,0.,1.,0.,1.,0.,0.,1.,0.,0.,0.,1.,1.,0.,1.,1.,1.,0.,1.])"
   ]
  },
  {
   "cell_type": "code",
   "execution_count": 452,
   "metadata": {},
   "outputs": [
    {
     "data": {
      "text/plain": [
       "array([[9, 3],\n",
       "       [2, 6]])"
      ]
     },
     "execution_count": 452,
     "metadata": {},
     "output_type": "execute_result"
    }
   ],
   "source": [
    "# import metrics\n",
    "from sklearn import metrics\n",
    "# confusion matrix\n",
    "metrics.confusion_matrix(y_true=y_true_results, y_pred=y_pred_results)"
   ]
  },
  {
   "cell_type": "code",
   "execution_count": 453,
   "metadata": {},
   "outputs": [
    {
     "data": {
      "text/plain": [
       "0.75"
      ]
     },
     "execution_count": 453,
     "metadata": {},
     "output_type": "execute_result"
    }
   ],
   "source": [
    "# accuracy matrix\n",
    "metrics.accuracy_score(y_true=y_true_results, y_pred=y_pred_results)"
   ]
  },
  {
   "cell_type": "code",
   "execution_count": 454,
   "metadata": {},
   "outputs": [
    {
     "data": {
      "text/plain": [
       "0.66666666666666663"
      ]
     },
     "execution_count": 454,
     "metadata": {},
     "output_type": "execute_result"
    }
   ],
   "source": [
    "# precision score\n",
    "metrics.precision_score(y_true=y_true_results, y_pred=y_pred_results)"
   ]
  },
  {
   "cell_type": "code",
   "execution_count": 455,
   "metadata": {},
   "outputs": [
    {
     "data": {
      "text/plain": [
       "0.75"
      ]
     },
     "execution_count": 455,
     "metadata": {},
     "output_type": "execute_result"
    }
   ],
   "source": [
    "# recall score\n",
    "metrics.recall_score(y_true=y_true_results, y_pred=y_pred_results)"
   ]
  },
  {
   "cell_type": "code",
   "execution_count": 456,
   "metadata": {},
   "outputs": [
    {
     "data": {
      "text/plain": [
       "0.70588235294117652"
      ]
     },
     "execution_count": 456,
     "metadata": {},
     "output_type": "execute_result"
    }
   ],
   "source": [
    "# f1 score\n",
    "metrics.f1_score(y_true=y_true_results, y_pred=y_pred_results)"
   ]
  }
 ],
 "metadata": {
  "celltoolbar": "Slideshow",
  "kernelspec": {
   "display_name": "Python 2",
   "language": "python",
   "name": "python2"
  },
  "language_info": {
   "codemirror_mode": {
    "name": "ipython",
    "version": 2
   },
   "file_extension": ".py",
   "mimetype": "text/x-python",
   "name": "python",
   "nbconvert_exporter": "python",
   "pygments_lexer": "ipython2",
   "version": "2.7.12"
  }
 },
 "nbformat": 4,
 "nbformat_minor": 2
}
